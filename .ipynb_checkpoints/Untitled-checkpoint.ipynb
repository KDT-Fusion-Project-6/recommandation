{
 "cells": [
  {
   "cell_type": "code",
   "execution_count": 54,
   "id": "8126deb9",
   "metadata": {},
   "outputs": [],
   "source": [
    "import item_simirarity as ism\n",
    "import user_simirarity as usm\n",
    "from import_data import database"
   ]
  },
  {
   "cell_type": "code",
   "execution_count": 55,
   "id": "6e2c9bb0",
   "metadata": {},
   "outputs": [],
   "source": [
    "import pandas as pd\n",
    "from collections import defaultdict"
   ]
  },
  {
   "cell_type": "code",
   "execution_count": null,
   "id": "03c87b64",
   "metadata": {},
   "outputs": [],
   "source": [
    "db = database('localhost', 'root', 'jong1003', 'clothes_recommand')"
   ]
  },
  {
   "cell_type": "code",
   "execution_count": 70,
   "id": "2141fc90",
   "metadata": {},
   "outputs": [
    {
     "ename": "IndentationError",
     "evalue": "expected an indented block (2180299316.py, line 21)",
     "output_type": "error",
     "traceback": [
      "\u001b[1;36m  Input \u001b[1;32mIn [70]\u001b[1;36m\u001b[0m\n\u001b[1;33m    category = clothes_data.loc[codi_clotes_dict[codi][0]]['mainCategory']\u001b[0m\n\u001b[1;37m    ^\u001b[0m\n\u001b[1;31mIndentationError\u001b[0m\u001b[1;31m:\u001b[0m expected an indented block\n"
     ]
    }
   ],
   "source": []
  },
  {
   "cell_type": "code",
   "execution_count": 56,
   "id": "f16ee2b9",
   "metadata": {},
   "outputs": [],
   "source": [
    "user = 67"
   ]
  },
  {
   "cell_type": "code",
   "execution_count": 57,
   "id": "9a1b13cd",
   "metadata": {},
   "outputs": [],
   "source": [
    "db = database('localhost', 'root', 'jong1003', 'clothes_recommand')"
   ]
  },
  {
   "cell_type": "code",
   "execution_count": 58,
   "id": "d67b13bf",
   "metadata": {},
   "outputs": [],
   "source": [
    "clothes_columns = ['clothesId', 'fit', 'spring', 'summer', 'autumn', 'winter', 'subCategory', 'mainCategory']\n",
    "prefrence_columns = ['uid', 'codiId']\n",
    "codi_clothes_columns = ['codiId', 'clothesId']"
   ]
  },
  {
   "cell_type": "code",
   "execution_count": 59,
   "id": "9abc5d97",
   "metadata": {},
   "outputs": [],
   "source": [
    "clothes_data = pd.DataFrame(db.select_columns('musinsacloset', clothes_columns), columns=clothes_columns)\n",
    "preference_data = pd.DataFrame(db.select_columns('preference', prefrence_columns), columns=['userId', 'codiId'])\n",
    "codi_clothes_data = pd.DataFrame(db.select_columns('codi_clothes', codi_clothes_columns), columns=codi_clothes_columns)"
   ]
  },
  {
   "cell_type": "code",
   "execution_count": 60,
   "id": "6808f917",
   "metadata": {},
   "outputs": [],
   "source": [
    "recommand_codies = usm.find_nearest_users(preference_data, user)"
   ]
  },
  {
   "cell_type": "code",
   "execution_count": 61,
   "id": "c6ec3734",
   "metadata": {},
   "outputs": [],
   "source": [
    "clothes_data = clothes_data.set_index('clothesId', drop=False)\n",
    "codi_clothes_data = codi_clothes_data.set_index('codiId', drop=False)"
   ]
  },
  {
   "cell_type": "code",
   "execution_count": 62,
   "id": "0ef5d550",
   "metadata": {},
   "outputs": [],
   "source": [
    "from collections import defaultdict\n",
    "codi_clotes_dict = defaultdict(list)\n",
    "for i in range(len(codi_clothes_data)):\n",
    "    data = codi_clothes_data.iloc[i].values\n",
    "    codi_clotes_dict[data[0]].append(data[1])"
   ]
  },
  {
   "cell_type": "code",
   "execution_count": 63,
   "id": "3a1eb5ee",
   "metadata": {},
   "outputs": [],
   "source": [
    "for codi in codi_clotes_dict.keys():\n",
    "    category = clothes_data.loc[codi_clotes_dict[codi][0]]['mainCategory']\n",
    "    if  category == '스커트' or category == '바지':\n",
    "        codi_clotes_dict[codi][0], codi_clotes_dict[codi][1] = codi_clotes_dict[codi][1], codi_clotes_dict[codi][0]"
   ]
  },
  {
   "cell_type": "code",
   "execution_count": 67,
   "id": "1765d92a",
   "metadata": {},
   "outputs": [],
   "source": [
    "clothes_dict = defaultdict(int)\n",
    "item = 580958\n",
    "category = clothes_data.loc[item]['mainCategory']\n",
    "candidates = [item]\n",
    "if category == '스커트' or category == '바지':\n",
    "    category_idx, recommand_idx = 1, 0\n",
    "else:\n",
    "    category_idx, recommand_idx = 0, 1\n",
    "for item in codi_clotes_dict.values():\n",
    "    clothes_dict[item[category_idx]] = item[recommand_idx]\n",
    "    candidates.append(item[category_idx])\n",
    "\n",
    "candidates_data = clothes_data.loc[candidates]"
   ]
  },
  {
   "cell_type": "code",
   "execution_count": 68,
   "id": "4a16289b",
   "metadata": {},
   "outputs": [],
   "source": [
    "recommandations = ism.genre_recommendations(580958, candidates_data, clothes_columns)\n",
    "recommandations = [clothes_dict[item] for item in recommandations]"
   ]
  },
  {
   "cell_type": "code",
   "execution_count": 69,
   "id": "a98b98ed",
   "metadata": {
    "scrolled": true
   },
   "outputs": [
    {
     "data": {
      "text/plain": [
       "[1661633, 2126186, 2247224, 2126180, 2260240]"
      ]
     },
     "execution_count": 69,
     "metadata": {},
     "output_type": "execute_result"
    }
   ],
   "source": [
    "codies = pd.DataFrame(columns=['codiId', 'clothesId'])\n",
    "for codi in recommand_codies:\n",
    "    try:\n",
    "        codies = pd.concat([codies, codi_clothes_data.set_index('codiId', inplace=true).loc[codi]])\n",
    "    except:\n",
    "        continue"
   ]
  },
  {
   "cell_type": "code",
   "execution_count": 103,
   "id": "a18709bc",
   "metadata": {},
   "outputs": [],
   "source": [
    "import item_simirarity as ism\n",
    "import user_simirarity as usm\n",
    "from import_data import database\n",
    "import pandas as pd\n",
    "from collections import defaultdict\n",
    "\n",
    "def recommandation(user, db, clothes):\n",
    "    clothes_columns = ['clothesId', 'fit', 'spring', 'summer', 'autumn', 'winter', 'subCategory', 'mainCategory']\n",
    "    prefrence_columns = ['uid', 'codiId']\n",
    "    codi_clothes_columns = ['codiId', 'clothesId']\n",
    "    \n",
    "    clothes_data = pd.DataFrame(db.select_columns('musinsacloset', clothes_columns), columns=clothes_columns)\n",
    "    preference_data = pd.DataFrame(db.select_columns('preference', prefrence_columns), columns=['userId', 'codiId'])\n",
    "    codi_clothes_data = pd.DataFrame(db.select_columns('codi_clothes', codi_clothes_columns), columns=codi_clothes_columns)\n",
    "    \n",
    "    \n",
    "    recommand_codies = usm.find_nearest_users(preference_data, user)\n",
    "    clothes_data = clothes_data.set_index('clothesId', drop=False)\n",
    "    codi_clothes_data = codi_clothes_data.set_index('codiId', drop=False)\n",
    "    recommand_codi_clothes_data = pd.DataFrame(columns = codi_clothes_data.columns)\n",
    "    for codi in recommand_codies:\n",
    "        try:\n",
    "            recommand_codi_clothes_data = pd.concat([recommand_codi_clothes_data, codi_clothes_data.loc[codi]])\n",
    "        except:\n",
    "            continue\n",
    "    codi_clotes_dict = defaultdict(list)\n",
    "    \n",
    "    for i in range(len(codi_clothes_data)):\n",
    "        data = codi_clothes_data.iloc[i].values\n",
    "        codi_clotes_dict[data[0]].append(data[1])\n",
    "    \n",
    "    for codi in codi_clotes_dict.keys():\n",
    "        category = clothes_data.loc[codi_clotes_dict[codi][0]]['mainCategory']\n",
    "        if  category == '스커트' or category == '바지':\n",
    "            codi_clotes_dict[codi][0], codi_clotes_dict[codi][1] = codi_clotes_dict[codi][1], codi_clotes_dict[codi][0]\n",
    "    \n",
    "    clothes_dict = defaultdict(int)\n",
    "#     #item = 580958\n",
    "    category = clothes_data.loc[clothes]['mainCategory']\n",
    "    candidates = [clothes]\n",
    "    if category == '스커트' or category == '바지':\n",
    "        category_idx, recommand_idx = 1, 0\n",
    "    else:\n",
    "        category_idx, recommand_idx = 0, 1\n",
    "    for item in codi_clotes_dict.values():\n",
    "        clothes_dict[item[category_idx]] = item[recommand_idx]\n",
    "        candidates.append(item[category_idx])\n",
    "\n",
    "    candidates_data = clothes_data.loc[candidates]\n",
    "    \n",
    "    recommandations = ism.genre_recommendations(clothes, candidates_data, clothes_columns)\n",
    "    recommandations = [clothes_dict[item] for item in recommandations]\n",
    "\n",
    "    return recommandations"
   ]
  },
  {
   "cell_type": "code",
   "execution_count": 80,
   "id": "b737cd97",
   "metadata": {},
   "outputs": [],
   "source": [
    "db = database('localhost', 'root', 'jong1003', 'clothes_recommand')"
   ]
  },
  {
   "cell_type": "code",
   "execution_count": 77,
   "id": "e1274ff6",
   "metadata": {},
   "outputs": [
    {
     "data": {
      "text/html": [
       "<div>\n",
       "<style scoped>\n",
       "    .dataframe tbody tr th:only-of-type {\n",
       "        vertical-align: middle;\n",
       "    }\n",
       "\n",
       "    .dataframe tbody tr th {\n",
       "        vertical-align: top;\n",
       "    }\n",
       "\n",
       "    .dataframe thead th {\n",
       "        text-align: right;\n",
       "    }\n",
       "</style>\n",
       "<table border=\"1\" class=\"dataframe\">\n",
       "  <thead>\n",
       "    <tr style=\"text-align: right;\">\n",
       "      <th></th>\n",
       "      <th>userId</th>\n",
       "      <th>codiId</th>\n",
       "    </tr>\n",
       "  </thead>\n",
       "  <tbody>\n",
       "    <tr>\n",
       "      <th>0</th>\n",
       "      <td>71</td>\n",
       "      <td>26947</td>\n",
       "    </tr>\n",
       "    <tr>\n",
       "      <th>1</th>\n",
       "      <td>71</td>\n",
       "      <td>26938</td>\n",
       "    </tr>\n",
       "    <tr>\n",
       "      <th>2</th>\n",
       "      <td>71</td>\n",
       "      <td>26937</td>\n",
       "    </tr>\n",
       "    <tr>\n",
       "      <th>3</th>\n",
       "      <td>71</td>\n",
       "      <td>26936</td>\n",
       "    </tr>\n",
       "    <tr>\n",
       "      <th>4</th>\n",
       "      <td>71</td>\n",
       "      <td>26931</td>\n",
       "    </tr>\n",
       "    <tr>\n",
       "      <th>...</th>\n",
       "      <td>...</td>\n",
       "      <td>...</td>\n",
       "    </tr>\n",
       "    <tr>\n",
       "      <th>981</th>\n",
       "      <td>73</td>\n",
       "      <td>15011</td>\n",
       "    </tr>\n",
       "    <tr>\n",
       "      <th>982</th>\n",
       "      <td>74</td>\n",
       "      <td>15011</td>\n",
       "    </tr>\n",
       "    <tr>\n",
       "      <th>983</th>\n",
       "      <td>79</td>\n",
       "      <td>15011</td>\n",
       "    </tr>\n",
       "    <tr>\n",
       "      <th>984</th>\n",
       "      <td>81</td>\n",
       "      <td>15011</td>\n",
       "    </tr>\n",
       "    <tr>\n",
       "      <th>985</th>\n",
       "      <td>82</td>\n",
       "      <td>15011</td>\n",
       "    </tr>\n",
       "  </tbody>\n",
       "</table>\n",
       "<p>986 rows × 2 columns</p>\n",
       "</div>"
      ],
      "text/plain": [
       "     userId  codiId\n",
       "0        71   26947\n",
       "1        71   26938\n",
       "2        71   26937\n",
       "3        71   26936\n",
       "4        71   26931\n",
       "..      ...     ...\n",
       "981      73   15011\n",
       "982      74   15011\n",
       "983      79   15011\n",
       "984      81   15011\n",
       "985      82   15011\n",
       "\n",
       "[986 rows x 2 columns]"
      ]
     },
     "execution_count": 77,
     "metadata": {},
     "output_type": "execute_result"
    }
   ],
   "source": [
    "preference_data"
   ]
  },
  {
   "cell_type": "code",
   "execution_count": 104,
   "id": "b9ad36f0",
   "metadata": {},
   "outputs": [],
   "source": [
    "a = recommandation(71, db, 580958)"
   ]
  },
  {
   "cell_type": "code",
   "execution_count": 89,
   "id": "2bfbcf6f",
   "metadata": {},
   "outputs": [],
   "source": [
    "b=[19468, 25614, 23569, 20503, 24088, 22561, 25123, 25126, 18984, 24621, 21567, 24643, 21573, 26694, 26699, 22610, 23634, 19540, 23637, 20567, 18528, 18529, 23145, 20083, 20086, 23159, 18551, 26747, 18561, 20609, 18566, 18568, 18570, 18571, 21140, 25238, 22167, 21143, 25239, 15011, 16037, 15013, 15015, 25254, 15557, 24774, 24775, 24776, 15560, 23754, 26313, 24780, 26315, 24782, 15564, 24784, 24785, 25811, 18131, 18133, 18135, 24299, 18160, 25332, 26869, 25337, 19707, 19708, 26875, 19709, 25344, 23811, 19715, 19717, 19724, 20749, 19726, 20752, 20756, 17177, 26909, 25888, 26931, 23861, 25910, 26936, 26937, 26938, 25400, 18238, 26947, 25421, 17751, 17758, 23906, 19827, 23419, 24445, 23423, 19332, 23942, 23943, 23949, 23950, 24487, 22439, 22443, 24493, 24496, 22960, 24499, 23477, 19388, 19393, 19396, 19398, 19400, 23497, 19401, 25035, 19404, 25037, 19406, 18897, 18898, 24531, 18899, 18900, 18902, 18903, 18904, 24535, 18906, 18907, 18908, 18909, 18910, 18911, 23520, 26075, 24543, 24547, 24550, 25588, 25590]"
   ]
  },
  {
   "cell_type": "code",
   "execution_count": 95,
   "id": "eec4bb6f",
   "metadata": {},
   "outputs": [],
   "source": [
    "d = pd.DataFrame(columns = a.columns, index=a.index)"
   ]
  },
  {
   "cell_type": "code",
   "execution_count": 105,
   "id": "e42deaba",
   "metadata": {},
   "outputs": [
    {
     "data": {
      "text/plain": [
       "[1661633, 2126186, 2247224, 2126180, 2260240]"
      ]
     },
     "execution_count": 105,
     "metadata": {},
     "output_type": "execute_result"
    }
   ],
   "source": [
    "a"
   ]
  }
 ],
 "metadata": {
  "kernelspec": {
   "display_name": "Python 3 (ipykernel)",
   "language": "python",
   "name": "python3"
  },
  "language_info": {
   "codemirror_mode": {
    "name": "ipython",
    "version": 3
   },
   "file_extension": ".py",
   "mimetype": "text/x-python",
   "name": "python",
   "nbconvert_exporter": "python",
   "pygments_lexer": "ipython3",
   "version": "3.8.3"
  }
 },
 "nbformat": 4,
 "nbformat_minor": 5
}
